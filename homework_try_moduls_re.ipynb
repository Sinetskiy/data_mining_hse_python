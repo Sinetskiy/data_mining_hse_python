{
 "cells": [
  {
   "cell_type": "markdown",
   "metadata": {},
   "source": [
    "1. Переведите строку в дату, используя datetime: `2018-08-14T19:00:55Z`"
   ]
  },
  {
   "cell_type": "code",
   "execution_count": 13,
   "metadata": {
    "ExecuteTime": {
     "end_time": "2018-10-14T17:31:40.493017Z",
     "start_time": "2018-10-14T17:31:40.436010Z"
    }
   },
   "outputs": [
    {
     "data": {
      "text/plain": [
       "datetime.datetime(2018, 8, 14, 19, 0, 55)"
      ]
     },
     "execution_count": 13,
     "metadata": {},
     "output_type": "execute_result"
    }
   ],
   "source": [
    "# 1\n",
    "date = '2018-08-14T19:00:55Z'\n",
    "\n",
    "import datetime\n",
    "datetime.datetime.strptime(date, '%Y-%m-%dT%H:%M:%SZ')"
   ]
  },
  {
   "cell_type": "markdown",
   "metadata": {},
   "source": [
    "2. Напишите функцию, которая показывает, какой день недели будет через 20 дней."
   ]
  },
  {
   "cell_type": "code",
   "execution_count": 19,
   "metadata": {
    "ExecuteTime": {
     "end_time": "2018-10-14T17:34:58.678764Z",
     "start_time": "2018-10-14T17:34:58.585729Z"
    }
   },
   "outputs": [
    {
     "name": "stdout",
     "output_type": "stream",
     "text": [
      "Sat\n"
     ]
    }
   ],
   "source": [
    "# 2\n",
    "def weekday20():\n",
    "    listOfDays = ['Mon', 'Tue', 'Wed', 'Thu', 'Fri', 'Sat', 'Sun']\n",
    "    now = datetime.datetime.now()\n",
    "    day = now + datetime.timedelta(20)\n",
    "    return listOfDays[day.weekday()]\n",
    "\n",
    "print(weekday20())"
   ]
  },
  {
   "cell_type": "markdown",
   "metadata": {},
   "source": [
    "3. Напишите функцию, которая по введенному радиусу возвращает площадь поверхности шара и его объем. Площадь поверхности = `4*pi*r**2`, объем = `4/3*pi*r**3`. Число pi можно найти в модуле math."
   ]
  },
  {
   "cell_type": "code",
   "execution_count": 27,
   "metadata": {
    "ExecuteTime": {
     "end_time": "2018-10-14T17:49:43.508569Z",
     "start_time": "2018-10-14T17:49:43.501123Z"
    }
   },
   "outputs": [
    {
     "name": "stdout",
     "output_type": "stream",
     "text": [
      "Radius of sphere: 2\n",
      "Surface Area is: 50.26548245743669\n",
      "Volume is: 33.510321638291124\n"
     ]
    }
   ],
   "source": [
    "# 3\n",
    "import math\n",
    "\n",
    "def getSphereSurfaceArea(r):\n",
    "    return 4*math.pi*r**2\n",
    "\n",
    "def getSphereVolume(r):\n",
    "    return 4/3*math.pi*r**3\n",
    "    \n",
    "def printSurfaceAreaAndVolumeOfSphere(r):\n",
    "    print('Radius of sphere: ' + str(r))\n",
    "    print('Surface Area is: ' + str(getSphereSurfaceArea(r)))\n",
    "    print('Volume is: ' + str(getSphereVolume(r))) \n",
    "    \n",
    "printSurfaceAreaAndVolumeOfSphere(2)\n"
   ]
  },
  {
   "cell_type": "markdown",
   "metadata": {},
   "source": [
    "4. Найти в строке все пароли и вывести их (только численную часть). Пароли только числовые, идут после выражения `password:`. Просто числа паролем не являются."
   ]
  },
  {
   "cell_type": "code",
   "execution_count": 29,
   "metadata": {
    "ExecuteTime": {
     "end_time": "2018-10-14T17:54:43.772825Z",
     "start_time": "2018-10-14T17:54:43.765919Z"
    }
   },
   "outputs": [
    {
     "name": "stdout",
     "output_type": "stream",
     "text": [
      "Поиск фраз с помощью re: password:([\\d]+)\n",
      "['12345', '23456']\n"
     ]
    }
   ],
   "source": [
    "# 4 Example:\n",
    "import re\n",
    "\n",
    "string = 'kasdjvb password:12345 hdhvbpassword:23456, 3534726, password123 fhbfvw'\n",
    "\n",
    "def find_all_passwords(patterns, phrase):\n",
    "    print('Поиск фраз с помощью re: ' + patterns)\n",
    "    print(re.findall(patterns, phrase))\n",
    "\n",
    "find_all_passwords('password:([\\d]+)', string)"
   ]
  },
  {
   "cell_type": "markdown",
   "metadata": {},
   "source": [
    "5. Написать выражение, которое ищет в тексте номера телефонов с таким паттерном: `tel = '+7(917)12-345-67'`"
   ]
  },
  {
   "cell_type": "code",
   "execution_count": 33,
   "metadata": {
    "ExecuteTime": {
     "end_time": "2018-10-14T18:03:14.756668Z",
     "start_time": "2018-10-14T18:03:14.721096Z"
    }
   },
   "outputs": [
    {
     "data": {
      "text/plain": [
       "['+7(917)12-345-67', '+7(495)36-558-47']"
      ]
     },
     "execution_count": 33,
     "metadata": {},
     "output_type": "execute_result"
    }
   ],
   "source": [
    "# 5 Example:\n",
    "tel = 'My number is +7(917)12-345-67 or +7(495)36-558-47. Call me!'\n",
    "\n",
    "re.findall('\\+\\d\\(\\d{3}\\)\\d{2}-\\d{3}-\\d{2}', tel)"
   ]
  },
  {
   "cell_type": "markdown",
   "metadata": {},
   "source": [
    "6. Вам на вход подается список пар чисел. Проверить, в скольких парах первое число делится на второе без ошибки. Вывести эти пары и их количество."
   ]
  },
  {
   "cell_type": "code",
   "execution_count": 42,
   "metadata": {
    "ExecuteTime": {
     "end_time": "2018-10-14T18:20:31.338758Z",
     "start_time": "2018-10-14T18:20:31.327521Z"
    }
   },
   "outputs": [
    {
     "name": "stdout",
     "output_type": "stream",
     "text": [
      "Division can't be done (4, 0)\n",
      "There are 2 good pairs: [(2, 3), (9, 3)]\n"
     ]
    }
   ],
   "source": [
    "# 6 Example\n",
    "pairs = [(2, 3), (4, 0), (9, 3)] \n",
    "\n",
    "def tryDivisionInListOfTuples(tuplesList):\n",
    "    goodTuples = list()\n",
    "    for tupl in tuplesList:\n",
    "        try:\n",
    "            z = tupl[0]/tupl[1]\n",
    "            goodTuples.append(tupl)\n",
    "        except ZeroDivisionError:\n",
    "            print('Division can\\'t be done ' + str(tupl))\n",
    "            continue\n",
    "    print('There are ' + str(len(goodTuples)) + ' good pairs: ' + str(goodTuples))\n",
    "                  \n",
    "tryDivisionInListOfTuples(pairs)"
   ]
  },
  {
   "cell_type": "code",
   "execution_count": null,
   "metadata": {},
   "outputs": [],
   "source": []
  }
 ],
 "metadata": {
  "kernelspec": {
   "display_name": "Python 3",
   "language": "python",
   "name": "python3"
  },
  "language_info": {
   "codemirror_mode": {
    "name": "ipython",
    "version": 3
   },
   "file_extension": ".py",
   "mimetype": "text/x-python",
   "name": "python",
   "nbconvert_exporter": "python",
   "pygments_lexer": "ipython3",
   "version": "3.6.5"
  }
 },
 "nbformat": 4,
 "nbformat_minor": 2
}
