{
 "cells": [
  {
   "cell_type": "markdown",
   "metadata": {},
   "source": [
    "# Домашка 1:"
   ]
  },
  {
   "cell_type": "markdown",
   "metadata": {
    "ExecuteTime": {
     "end_time": "2018-07-23T14:15:49.812245Z",
     "start_time": "2018-07-23T14:15:49.799852Z"
    }
   },
   "source": [
    "##### 1. (2 балла) \n",
    "\n",
    "На вход вам приходит вещественное число, обозначающее время, которое необходимо потратить на задачу (создайте для этого переменную duration). \n",
    "<br>\n",
    "Выведите, сколько времени уйдет, чтобы выполнить 3 такие задачи.\n",
    "<br>\n",
    "__Ввод:__ вещественное число, которое обозначает количество часов (нецелое, например 1.5 -значит 1 час и 0.5 часа, то есть 30 минут). Число часов точно меньше 24.\n",
    "<br>\n",
    "__Вывод:__ hh:mm (часы:минуты).\n",
    "\n"
   ]
  },
  {
   "cell_type": "code",
   "execution_count": 24,
   "metadata": {},
   "outputs": [
    {
     "name": "stdout",
     "output_type": "stream",
     "text": [
      "03:12\n"
     ]
    }
   ],
   "source": [
    "duration = 1.07\n",
    "all_tasks_duration = 3 * duration\n",
    "\n",
    "if (all_tasks_duration > 24):\n",
    "    all_tasks_duration = 24\n",
    "    \n",
    "hours = str(int(all_tasks_duration//1))\n",
    "minuts = str(int(all_tasks_duration%1*60))\n",
    "\n",
    "if (int(hours) < 10):\n",
    "    hours = '0' + hours\n",
    "    \n",
    "if (int(minuts) < 10):\n",
    "    minuts = '0' + minuts\n",
    "\n",
    "print(hours + ':' + minuts)\n"
   ]
  },
  {
   "cell_type": "markdown",
   "metadata": {
    "ExecuteTime": {
     "end_time": "2018-09-13T11:14:49.555933Z",
     "start_time": "2018-09-13T11:14:49.530687Z"
    }
   },
   "source": [
    "##### 2. (2 балла)  \n",
    "Для двух строк l1 и l2, а так же числа n вывести строчку l3, состоящую из конкатенации l1 и l2, повторенной n раз.<br>\n",
    "Например, для l1='hello', l2='world', n=2, l3 будет равно 'helloworldhelloworld' "
   ]
  },
  {
   "cell_type": "code",
   "execution_count": 29,
   "metadata": {},
   "outputs": [
    {
     "name": "stdout",
     "output_type": "stream",
     "text": [
      "трололотрололотрололотрололотрололо\n"
     ]
    }
   ],
   "source": [
    "l1 = 'тро'\n",
    "l2 = 'лоло'\n",
    "l3 = ''\n",
    "count = 5\n",
    "index = 0\n",
    "\n",
    "while index < count:\n",
    "    l3+=l1+l2\n",
    "    index+=1\n",
    "    \n",
    "print(l3)"
   ]
  },
  {
   "cell_type": "markdown",
   "metadata": {
    "ExecuteTime": {
     "end_time": "2018-07-23T14:16:20.925801Z",
     "start_time": "2018-07-23T14:16:20.919099Z"
    }
   },
   "source": [
    "##### 3. (2 балла) \n",
    "\n",
    "Электронные часы показывают время в формате hh:mm:ss, то есть сначала записывается обязательно двузначное количество часов, потом обязательно двузначное количество минут, затем обязательно двузначное количество секунд. \n",
    "\n",
    "С начала суток прошло N секунд. Выведите, что покажут часы. В N точно меньше 24 часов."
   ]
  },
  {
   "cell_type": "code",
   "execution_count": 53,
   "metadata": {},
   "outputs": [
    {
     "name": "stdout",
     "output_type": "stream",
     "text": [
      "00:00:23\n"
     ]
    }
   ],
   "source": [
    "from datetime import datetime  \n",
    "from datetime import timedelta  \n",
    "\n",
    "now = datetime.min;\n",
    "result = now + timedelta(seconds=23)\n",
    "\n",
    "print(result.time())"
   ]
  },
  {
   "cell_type": "markdown",
   "metadata": {},
   "source": [
    "##### 4. (2 балла) \n",
    "\n",
    "На вход даются числа a, b, натуральные, a < b. Задача вывести числа Фибоначчи с номерами от a до b. [Число Фибоначчи](https://ru.wikipedia.org/wiki/Числа_Фибоначчи)"
   ]
  },
  {
   "cell_type": "code",
   "execution_count": 60,
   "metadata": {},
   "outputs": [
    {
     "name": "stdout",
     "output_type": "stream",
     "text": [
      "2\n",
      "3\n",
      "5\n",
      "8\n",
      "13\n",
      "21\n",
      "34\n",
      "55\n",
      "89\n",
      "144\n",
      "233\n",
      "377\n",
      "610\n",
      "987\n",
      "1597\n",
      "2584\n",
      "4181\n",
      "6765\n",
      "10946\n"
     ]
    }
   ],
   "source": [
    "def fib(n):    \n",
    "    if n == 0: \n",
    "        return 0\n",
    "    elif n == 1: \n",
    "        return 1\n",
    "    else: \n",
    "        return fib(n-1)+fib(n-2)\n",
    "    \n",
    "a = 3\n",
    "b = 21\n",
    "\n",
    "while a <= b:\n",
    "    print(fib(a))\n",
    "    a += 1 \n"
   ]
  },
  {
   "cell_type": "code",
   "execution_count": null,
   "metadata": {},
   "outputs": [],
   "source": []
  }
 ],
 "metadata": {
  "kernelspec": {
   "display_name": "Python 3",
   "language": "python",
   "name": "python3"
  },
  "language_info": {
   "codemirror_mode": {
    "name": "ipython",
    "version": 3
   },
   "file_extension": ".py",
   "mimetype": "text/x-python",
   "name": "python",
   "nbconvert_exporter": "python",
   "pygments_lexer": "ipython3",
   "version": "3.6.5"
  }
 },
 "nbformat": 4,
 "nbformat_minor": 2
}
