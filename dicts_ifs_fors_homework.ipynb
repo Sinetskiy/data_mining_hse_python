{
 "cells": [
  {
   "cell_type": "markdown",
   "metadata": {},
   "source": [
    "## 1. (3 балла) \n",
    "Напишите программу, в которой пользователь вводит числа по одному, пока не введет слово \"done\". Для полученного списка чисел найдите среднее арифметическое.\n",
    "Для ввода используйте встроенную функцию input()."
   ]
  },
  {
   "cell_type": "code",
   "execution_count": 3,
   "metadata": {},
   "outputs": [
    {
     "name": "stdout",
     "output_type": "stream",
     "text": [
      "12\n",
      "32\n",
      "11\n",
      "23\n",
      "done\n"
     ]
    },
    {
     "data": {
      "text/plain": [
       "19.5"
      ]
     },
     "execution_count": 3,
     "metadata": {},
     "output_type": "execute_result"
    }
   ],
   "source": [
    "def isFloat(value):\n",
    "  try:\n",
    "    float(value)\n",
    "    return True\n",
    "  except ValueError:\n",
    "    return False\n",
    "\n",
    "string = \"\"\n",
    "num = False\n",
    "list = []\n",
    "while string != \"done\":\n",
    "    string = input()\n",
    "    if isFloat(string):\n",
    "        num = float(string)\n",
    "        list.append(num)\n",
    "\n",
    "sum(list) / float(len(list))"
   ]
  },
  {
   "cell_type": "code",
   "execution_count": null,
   "metadata": {},
   "outputs": [],
   "source": []
  },
  {
   "cell_type": "code",
   "execution_count": null,
   "metadata": {},
   "outputs": [],
   "source": []
  },
  {
   "cell_type": "code",
   "execution_count": null,
   "metadata": {},
   "outputs": [],
   "source": []
  },
  {
   "cell_type": "markdown",
   "metadata": {
    "ExecuteTime": {
     "end_time": "2018-09-22T10:24:32.303494Z",
     "start_time": "2018-09-22T10:24:32.296849Z"
    }
   },
   "source": [
    "## 2. (1 балл) \n",
    "Напишите аналогичную программу, но для полученного списка найдите минимум и максимум."
   ]
  },
  {
   "cell_type": "code",
   "execution_count": 6,
   "metadata": {},
   "outputs": [
    {
     "name": "stdout",
     "output_type": "stream",
     "text": [
      "min: 12.0\n",
      "max: 23.0\n"
     ]
    }
   ],
   "source": [
    "list.sort\n",
    "min = list[0]\n",
    "max = list[len(list)-1]\n",
    "print('min: ' + str(min))\n",
    "print('max: ' + str(max))"
   ]
  },
  {
   "cell_type": "markdown",
   "metadata": {},
   "source": [
    "Перед тем, как выполнять задание по словарям, рекомендую посмотреть на документацию метода dict(): [python.org](https://docs.python.org/3/library/stdtypes.html#dict)"
   ]
  },
  {
   "cell_type": "markdown",
   "metadata": {},
   "source": [
    "## 3. (2 балла, 1+1)\n",
    "На вход подается два словаря d1 и d2 с карточками продуктов (см. пример ниже). Необходимо объединить оба словаря в один и удалить дубликаты значений (values в терминах метода dict()), если они есть, и вывести итоговый словарь. За объединение словаря 1 балл и еще 1 балл за корректное удаление дубликатов. \n",
    "\n",
    "При простом объединении словарей, если совпадают и ключи и значения, словарь сам убирает дубликаты. В этом плане он похож на set(). Но наш случай не настолько тривиальный, у нас основные ключи разные, а значения, то есть вложенные словари, могут быть одинаковыми. Вот как раз от одинаковых значений (вложенных словарей) надо избавиться. Какой в итоге ему ключ будет присвоен из дубликатов - не имеет значения."
   ]
  },
  {
   "cell_type": "code",
   "execution_count": 32,
   "metadata": {
    "ExecuteTime": {
     "end_time": "2018-09-22T10:35:39.203892Z",
     "start_time": "2018-09-22T10:35:39.153330Z"
    }
   },
   "outputs": [
    {
     "data": {
      "text/plain": [
       "{'Item1': {'Name': 'Cake', 'Price': 20},\n",
       " 'Item2': {'Name': 'Pie', 'Price': 10},\n",
       " 'Item3': {'Name': 'Chocobar', 'Price': 5},\n",
       " 'Item4': {'Name': 'Brownie', 'Price': 15}}"
      ]
     },
     "execution_count": 32,
     "metadata": {},
     "output_type": "execute_result"
    }
   ],
   "source": [
    "def merge_two_dicts(x, y):\n",
    "    z = x.copy()   \n",
    "    z.update(y)\n",
    "    return z\n",
    "\n",
    "d1 = {'Item1': {'Name': 'Cake', 'Price': 20},\n",
    " 'Item2': {'Name': 'Pie', 'Price': 10},\n",
    " 'Item3': {'Name': 'Chocobar', 'Price': 5}}\n",
    "\n",
    "\n",
    "d2 = {'Item4': {'Name': 'Brownie', 'Price': 15},\n",
    " 'Item5': {'Name': 'Cake', 'Price': 20}}\n",
    "\n",
    "d3 = merge_two_dicts(d1,d2)\n",
    "\n",
    "result = {}\n",
    "\n",
    "for key,value in d3.items():\n",
    "    if value not in result.values():\n",
    "        result[key] = value\n",
    "\n",
    "result\n"
   ]
  },
  {
   "cell_type": "markdown",
   "metadata": {},
   "source": [
    "# 4. (1 балл)\n",
    "Для объединенного словаря из прошлого примера посчитайте итоговую сумму продуктов."
   ]
  },
  {
   "cell_type": "code",
   "execution_count": 34,
   "metadata": {},
   "outputs": [
    {
     "name": "stdout",
     "output_type": "stream",
     "text": [
      "Sum of d products is: 50\n"
     ]
    }
   ],
   "source": [
    "sum = 0\n",
    "for key,value in result.items():\n",
    "    sum = sum + int(value['Price'])\n",
    "\n",
    "print(\"Sum of d products is: \" + str(50))"
   ]
  },
  {
   "cell_type": "markdown",
   "metadata": {},
   "source": [
    "# 5. (2 балла)\n",
    "Дан один словарь с запасами продуктов на складе. Дан второй словарь со стоимостью этих товаров. Создайте словарь с балансом этих продуктов."
   ]
  },
  {
   "cell_type": "code",
   "execution_count": 36,
   "metadata": {
    "ExecuteTime": {
     "end_time": "2018-09-22T10:36:37.564740Z",
     "start_time": "2018-09-22T10:36:37.544296Z"
    }
   },
   "outputs": [
    {
     "data": {
      "text/plain": [
       "{'Item1': 840, 'Item2': 700, 'Item3': 3500}"
      ]
     },
     "execution_count": 36,
     "metadata": {},
     "output_type": "execute_result"
    }
   ],
   "source": [
    "d1 ={'Item1': 120, 'Item2': 100, 'Item3': 500}\n",
    "d2 = {'Item1': 5, 'Item2': 12, 'Item3': 7}\n",
    "d = {}\n",
    "\n",
    "for key1, value1 in d1.items():\n",
    "    for key2, value2 in d2.items():\n",
    "        d[key1] = value1 * value2\n",
    "\n",
    "d"
   ]
  },
  {
   "cell_type": "code",
   "execution_count": null,
   "metadata": {},
   "outputs": [],
   "source": []
  },
  {
   "cell_type": "markdown",
   "metadata": {},
   "source": [
    "## 6* (1 балл)\n",
    "Напишите программу для генерации песни \"Hey Jude\". В этой песне 4 куплета и многие слова повторяются. Цель - использовать как можно меньше кода. В схеме ниже #1 и #2 означают, что используются строчки из первого и второго куплета соотв.\n",
    "<img src='jude.jpg' width=600>"
   ]
  },
  {
   "cell_type": "code",
   "execution_count": null,
   "metadata": {},
   "outputs": [],
   "source": []
  }
 ],
 "metadata": {
  "kernelspec": {
   "display_name": "Python 3",
   "language": "python",
   "name": "python3"
  },
  "language_info": {
   "codemirror_mode": {
    "name": "ipython",
    "version": 3
   },
   "file_extension": ".py",
   "mimetype": "text/x-python",
   "name": "python",
   "nbconvert_exporter": "python",
   "pygments_lexer": "ipython3",
   "version": "3.6.5"
  }
 },
 "nbformat": 4,
 "nbformat_minor": 2
}
