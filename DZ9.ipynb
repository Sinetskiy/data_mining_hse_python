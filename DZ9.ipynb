{
 "cells": [
  {
   "cell_type": "markdown",
   "metadata": {},
   "source": [
    "# Задание 1 (7 балла)\n",
    "Выберите одного певца. Скачайте несколько его свежих портретных фото. Какой ему возраст в среднем дает апи?\n",
    "\n",
    "Делайте запросы в цикле.\n",
    "\n",
    "Если не знаете, где взять легально mp3 файлы, то можно воспользоваться этим сервисом: https://www.jamendo.com/start\n",
    "\n",
    "### Microsoft Face API:\n",
    "https://www.microsoft.com/cognitive-services/en-us/face-api - дают 7-дневный пробный период без кредитки\n",
    "    \n",
    "https://docs.microsoft.com/ru-ru/azure/cognitive-services/face/quickstarts/python - quick start"
   ]
  },
  {
   "cell_type": "code",
   "execution_count": 5,
   "metadata": {
    "ExecuteTime": {
     "end_time": "2018-11-20T21:09:24.932028Z",
     "start_time": "2018-11-20T21:09:11.911675Z"
    }
   },
   "outputs": [
    {
     "name": "stdout",
     "output_type": "stream",
     "text": [
      "Средний возраст человека на фото: 51.5\n"
     ]
    }
   ],
   "source": [
    "# Выберите одного певца. Скачайте несколько его свежих портретных фото. Какой ему возраст в среднем дает апи?\n",
    "\n",
    "import requests\n",
    "from io import BytesIO\n",
    "import numpy\n",
    "\n",
    "subscription_key = '10abe93f74344a4b81eddcedb5481f37'\n",
    "assert subscription_key\n",
    "\n",
    "face_api_url = 'https://westcentralus.api.cognitive.microsoft.com/face/v1.0/detect'\n",
    "\n",
    "headers = {'Ocp-Apim-Subscription-Key': subscription_key, \n",
    "           'Content-Type': 'application/octet-stream'}\n",
    "params = {\n",
    "    'returnFaceId': 'true',\n",
    "    'returnFaceLandmarks': 'false',\n",
    "    'returnFaceAttributes': 'age'\n",
    "}\n",
    "\n",
    "img_path = 'thom_yorke/thom_yorke'\n",
    "\n",
    "ages = []\n",
    "for i in range(1,7):\n",
    "    photo_path = \"{}{}.jpg\".format(img_path,i)\n",
    "    with open(photo_path, \"rb\") as image_file:\n",
    "        data = image_file.read()\n",
    "        \n",
    "    response = requests.post(face_api_url, params=params, headers=headers, data=data)\n",
    "    faces = response.json()\n",
    "    for face in faces:\n",
    "        fa = face[\"faceAttributes\"]\n",
    "        ages.append(int(fa[\"age\"]))\n",
    "           \n",
    "print('Средний возраст человека на фото: {}'.format(numpy.mean(ages)))"
   ]
  },
  {
   "cell_type": "code",
   "execution_count": null,
   "metadata": {},
   "outputs": [],
   "source": []
  },
  {
   "cell_type": "markdown",
   "metadata": {},
   "source": [
    "# Задание 2 (7 балла)\n",
    "Выберите одну его песню. Разбейте ее на кусочки. Кусочки не должны быть больше 1 мб и длиннее 1 минуты. Получите текст кусочков с помощью соответствующего апи.\n",
    "\n",
    "Для английского языка используйте en-US, для русского ru-RU. Яндекс русские песни понимает лучше.\n",
    "\n",
    "# Yandex SpeechKit\n",
    "https://tech.yandex.ru/speechkit/\n",
    "\n",
    "Нас не интересует встраивание этой технологии в мобильное приложение. Так что идем в https://tech.yandex.ru/speechkit/cloud/ . Отсюда в кабинет разработчика: https://developer.tech.yandex.ru и получаем там API ключ на 30 дней.\n",
    "\n",
    "С новеньким ключем читаем документацию: https://tech.yandex.ru/speechkit/cloud/doc/guide/concepts/speechkit-cloud-asr-quick-start-docpage/\n",
    "\n",
    "Проблематично что-то понять, но гугление дает прекрасный пример на Питоне: https://toster.ru/q/310132"
   ]
  },
  {
   "cell_type": "code",
   "execution_count": 4,
   "metadata": {
    "ExecuteTime": {
     "end_time": "2018-11-20T21:01:07.866608Z",
     "start_time": "2018-11-20T21:00:50.416232Z"
    }
   },
   "outputs": [
    {
     "name": "stdout",
     "output_type": "stream",
     "text": [
      "чистый свет обычный начинался день народ ломился за портвейном жевали дети колбасу в пропавшей коньяком кофейной гаишник ковырял в носу белье сушилка на балконе настройки догорал сарай иван никифорович крюгер попал под рельсы и трамвай земли по речке девушка плыла кому то рядом билли рыло а заодно в колокола\n"
     ]
    }
   ],
   "source": [
    "import requests\n",
    "from bs4 import BeautifulSoup\n",
    "from pydub import AudioSegment\n",
    "import xml.etree.ElementTree as ET\n",
    "\n",
    "key = 'ed49bebf-4b94-41bd-9314-5166fca9c80e'\n",
    "uuid = '0b6831a499783774116100aacacd8545' # пришлось прочесть документацию чтоб понять что это важно =)\n",
    "url = 'https://asr.yandex.net/asr_xml?key=' + key + '&uuid=' + uuid + '&topic=queries&lang=ru-RU'\n",
    "headers = {\"Content-type\": 'audio/x-mpeg-3'}\n",
    "\n",
    "\n",
    "# сегментация не работает =[, пришлось искать короткий файл\n",
    "# да и судя по документации эта штука предназначена для кородких команд\n",
    "# но, понимаю, если есть штука почему бы ее не использовать для всего ^___^ \n",
    "\n",
    "#sound = AudioSegment.from_mp3(\"thom_yorke/radiohead-climbing-up-the-walls.mp3\")\n",
    "#halfway_point = len(sound) / 5\n",
    "#second_half = sound[halfway_point:]\n",
    "\n",
    "#print(halfway_point)\n",
    "\n",
    "data = open('pilot/pilot-stikh.mp3', 'rb')\n",
    "    \n",
    "response = requests.post(url, headers=headers, data=data)\n",
    "\n",
    "result = \"Произошла ошибка\"\n",
    "if response.status_code == 200:\n",
    "    root = ET.fromstring(response.text)\n",
    "    result = root[0].text\n",
    "\n",
    "print(result)"
   ]
  },
  {
   "cell_type": "code",
   "execution_count": 61,
   "metadata": {
    "ExecuteTime": {
     "end_time": "2018-11-20T22:18:48.565080Z",
     "start_time": "2018-11-20T22:18:48.560948Z"
    }
   },
   "outputs": [],
   "source": [
    "with open('train_text/ttest.txt', 'w') as f:\n",
    "        f.write(result)"
   ]
  },
  {
   "cell_type": "markdown",
   "metadata": {},
   "source": [
    "# Задание 3 по желанию.\n",
    "\n",
    "Получившиеся тексты классифицируйте с помощью fasttext.\n",
    "\n",
    "Для русского языка вам потребуется найти самостоятельно корпус текстов. Они есть в интернете, например, вот по твиттеру: http://study.mokoron.com/\n",
    "\n",
    "\n",
    "### FastText\n",
    "https://fasttext.cc"
   ]
  },
  {
   "cell_type": "code",
   "execution_count": 59,
   "metadata": {
    "ExecuteTime": {
     "end_time": "2018-11-20T22:13:39.187874Z",
     "start_time": "2018-11-20T22:13:37.980930Z"
    }
   },
   "outputs": [],
   "source": [
    "import pandas as pd\n",
    "\n",
    "column_names = ['id','tdate','tname','ttext','ttype','trep','trtw','tfav', 'tstcount', 'tfol', 'tfrien', 'listcount']\n",
    "df_posetive = pd.read_csv('train_text/positive.csv', sep= ';', header=None)\n",
    "df_posetive.columns = column_names\n",
    "df_negative = pd.read_csv('train_text/negative.csv', sep= ';', header=None)\n",
    "df_negative.columns = column_names\n",
    "\n",
    "df_train = df_posetive.append(df_negative, ignore_index=True)\n",
    "train_labels = df_train.ttype\n",
    "train_data = df_train.ttext\n",
    "\n",
    "with open('train_text/ttrain.txt', 'w') as f:\n",
    "    for i in range(df_train.shape[0]):\n",
    "        f.write(('__label__{} {}\\n'.format(train_labels[i], train_data[i])))\n",
    "\n"
   ]
  },
  {
   "cell_type": "code",
   "execution_count": 67,
   "metadata": {
    "ExecuteTime": {
     "end_time": "2018-11-20T22:34:02.763065Z",
     "start_time": "2018-11-20T22:34:02.243172Z"
    }
   },
   "outputs": [
    {
     "name": "stdout",
     "output_type": "stream",
     "text": [
      "Read 0M words\n",
      "Number of words:  915\n",
      "Number of labels: 1\n",
      "Progress: 100.0% words/sec/thread:    6504 lr:  0.000000 loss:  0.000000 ETA:   0h 0m\n"
     ]
    }
   ],
   "source": [
    "# /ПУТЬ ДО РЕПОЗИТОРИЯ/home_works/\n",
    "!/Users/andreysinetskiy/GitHub/python/home_works/fasttext supervised -input train_text/ttrain.txt -output model_sent"
   ]
  },
  {
   "cell_type": "code",
   "execution_count": 69,
   "metadata": {
    "ExecuteTime": {
     "end_time": "2018-11-20T22:36:57.319739Z",
     "start_time": "2018-11-20T22:36:57.148407Z"
    }
   },
   "outputs": [
    {
     "name": "stdout",
     "output_type": "stream",
     "text": [
      "__label__1\r\n"
     ]
    }
   ],
   "source": [
    "!/Users/andreysinetskiy/GitHub/python/home_works/fasttext predict model_sent.bin train_text/ttest.txt"
   ]
  },
  {
   "cell_type": "code",
   "execution_count": null,
   "metadata": {},
   "outputs": [],
   "source": []
  }
 ],
 "metadata": {
  "kernelspec": {
   "display_name": "Python 3",
   "language": "python",
   "name": "python3"
  },
  "language_info": {
   "codemirror_mode": {
    "name": "ipython",
    "version": 3
   },
   "file_extension": ".py",
   "mimetype": "text/x-python",
   "name": "python",
   "nbconvert_exporter": "python",
   "pygments_lexer": "ipython3",
   "version": "3.6.5"
  }
 },
 "nbformat": 4,
 "nbformat_minor": 2
}
