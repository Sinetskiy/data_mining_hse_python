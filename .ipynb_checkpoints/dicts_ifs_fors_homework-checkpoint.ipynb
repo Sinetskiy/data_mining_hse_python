{
 "cells": [
  {
   "cell_type": "markdown",
   "metadata": {},
   "source": [
    "## 1. (3 балла) \n",
    "Напишите программу, в которой пользователь вводит числа по одному, пока не введет слово \"done\". Для полученного списка чисел найдите среднее арифметическое.\n",
    "Для ввода используйте встроенную функцию input()."
   ]
  },
  {
   "cell_type": "code",
   "execution_count": null,
   "metadata": {},
   "outputs": [],
   "source": []
  },
  {
   "cell_type": "markdown",
   "metadata": {
    "ExecuteTime": {
     "end_time": "2018-09-22T10:24:32.303494Z",
     "start_time": "2018-09-22T10:24:32.296849Z"
    }
   },
   "source": [
    "## 2. (1 балл) \n",
    "Напишите аналогичную программу, но для полученного списка найдите минимум и максимум."
   ]
  },
  {
   "cell_type": "code",
   "execution_count": null,
   "metadata": {},
   "outputs": [],
   "source": []
  },
  {
   "cell_type": "markdown",
   "metadata": {},
   "source": [
    "Перед тем, как выполнять задание по словарям, рекомендую посмотреть на документацию метода dict(): [python.org](https://docs.python.org/3/library/stdtypes.html#dict)"
   ]
  },
  {
   "cell_type": "markdown",
   "metadata": {},
   "source": [
    "## 3. (2 балла, 1+1)\n",
    "На вход подается два словаря d1 и d2 с карточками продуктов (см. пример ниже). Необходимо объединить оба словаря в один и удалить дубликаты значений (values в терминах метода dict()), если они есть, и вывести итоговый словарь. За объединение словаря 1 балл и еще 1 балл за корректное удаление дубликатов. \n",
    "\n",
    "При простом объединении словарей, если совпадают и ключи и значения, словарь сам убирает дубликаты. В этом плане он похож на set(). Но наш случай не настолько тривиальный, у нас основные ключи разные, а значения, то есть вложенные словари, могут быть одинаковыми. Вот как раз от одинаковых значений (вложенных словарей) надо избавиться. Какой в итоге ему ключ будет присвоен из дубликатов - не имеет значения."
   ]
  },
  {
   "cell_type": "code",
   "execution_count": 8,
   "metadata": {
    "ExecuteTime": {
     "end_time": "2018-09-22T10:35:39.203892Z",
     "start_time": "2018-09-22T10:35:39.153330Z"
    }
   },
   "outputs": [
    {
     "name": "stdout",
     "output_type": "stream",
     "text": [
      "Input\n",
      "d1:\n",
      "{'Item1': {'Name': 'Cake', 'Price': 20},\n",
      " 'Item2': {'Name': 'Pie', 'Price': 10},\n",
      " 'Item3': {'Name': 'Chocobar', 'Price': 5}}\n",
      "d2:\n",
      "{'Item4': {'Name': 'Brownie', 'Price': 15},\n",
      " 'Item5': {'Name': 'Cake', 'Price': 20}}\n",
      "\n",
      "Output\n",
      "{'Item1': {'Name': 'Cake', 'Price': 20},\n",
      " 'Item2': {'Name': 'Pie', 'Price': 10},\n",
      " 'Item3': {'Name': 'Chocobar', 'Price': 5},\n",
      " 'Item4': {'Name': 'Brownie', 'Price': 15}}\n"
     ]
    }
   ],
   "source": []
  },
  {
   "cell_type": "markdown",
   "metadata": {},
   "source": [
    "# 4. (1 балл)\n",
    "Для объединенного словаря из прошлого примера посчитайте итоговую сумму продуктов."
   ]
  },
  {
   "cell_type": "code",
   "execution_count": 27,
   "metadata": {},
   "outputs": [
    {
     "name": "stdout",
     "output_type": "stream",
     "text": [
      "Sum of d products is: 50\n"
     ]
    }
   ],
   "source": []
  },
  {
   "cell_type": "markdown",
   "metadata": {},
   "source": [
    "# 5. (2 балла)\n",
    "Дан один словарь с запасами продуктов на складе. Дан второй словарь со стоимостью этих товаров. Создайте словарь с балансом этих продуктов."
   ]
  },
  {
   "cell_type": "code",
   "execution_count": 10,
   "metadata": {
    "ExecuteTime": {
     "end_time": "2018-09-22T10:36:37.564740Z",
     "start_time": "2018-09-22T10:36:37.544296Z"
    }
   },
   "outputs": [
    {
     "name": "stdout",
     "output_type": "stream",
     "text": [
      "Input\n",
      "d1:\n",
      "{'Item1': 120, 'Item2': 100, 'Item3': 500}\n",
      "d2:\n",
      "{'Item1': 5, 'Item2': 12, 'Item3': 7}\n",
      "\n",
      "Output\n",
      "{'Item1': 600, 'Item2': 1200, 'Item3': 3500}\n"
     ]
    }
   ],
   "source": []
  },
  {
   "cell_type": "code",
   "execution_count": null,
   "metadata": {},
   "outputs": [],
   "source": []
  },
  {
   "cell_type": "markdown",
   "metadata": {},
   "source": [
    "## 6* (1 балл)\n",
    "Напишите программу для генерации песни \"Hey Jude\". В этой песне 4 куплета и многие слова повторяются. Цель - использовать как можно меньше кода. В схеме ниже #1 и #2 означают, что используются строчки из первого и второго куплета соотв.\n",
    "<img src='jude.jpg' width=600>"
   ]
  },
  {
   "cell_type": "code",
   "execution_count": null,
   "metadata": {},
   "outputs": [],
   "source": []
  }
 ],
 "metadata": {
  "kernelspec": {
   "display_name": "Python 3",
   "language": "python",
   "name": "python3"
  },
  "language_info": {
   "codemirror_mode": {
    "name": "ipython",
    "version": 3
   },
   "file_extension": ".py",
   "mimetype": "text/x-python",
   "name": "python",
   "nbconvert_exporter": "python",
   "pygments_lexer": "ipython3",
   "version": "3.6.5"
  }
 },
 "nbformat": 4,
 "nbformat_minor": 2
}
