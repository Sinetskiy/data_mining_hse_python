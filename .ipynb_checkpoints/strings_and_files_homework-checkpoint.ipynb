{
 "cells": [
  {
   "cell_type": "markdown",
   "metadata": {
    "ExecuteTime": {
     "end_time": "2018-09-28T09:50:07.055679Z",
     "start_time": "2018-09-28T09:50:07.043879Z"
    }
   },
   "source": [
    "## 1 (1 балл) \n",
    "На вход вам приходит строка, в которой буква h встречается минимум два раза. Выведите эту строку без первого и последнего вхождение буквы h, а также без всех символов, находящихся между ними.\n",
    "\n",
    "Пример входа:\n",
    "'habrahabr'\n",
    "\n",
    "Пример выхода:\n",
    "'abr'\n",
    "<br><br>\n",
    "\n",
    "Пример входа:\n",
    "'AAAAAhBBBBBhCCCCChDDDDDD'\n",
    "\n",
    "Пример выхода:\n",
    "'AAAAADDDDDD'\n",
    "<br><br>\n",
    "\n",
    "Пример входа:\n",
    "'hh'\n",
    "\n",
    "Пример выхода:\n",
    "''"
   ]
  },
  {
   "cell_type": "code",
   "execution_count": null,
   "metadata": {},
   "outputs": [],
   "source": []
  },
  {
   "cell_type": "markdown",
   "metadata": {},
   "source": [
    "## 2 (3 балла) \n",
    "\n",
    "Метод str.replace(old, new[, max]) возвращает копию строки str, в которой подстроки old на new. Опциональный аргумент max позволяет ограничить количество замен. Более подробно – в документации: https://www.tutorialspoint.com/python/string_replace.htm \n",
    "\n",
    "Примеры использования:"
   ]
  },
  {
   "cell_type": "code",
   "execution_count": 16,
   "metadata": {
    "ExecuteTime": {
     "end_time": "2018-09-28T10:18:15.944684Z",
     "start_time": "2018-09-28T10:18:15.937739Z"
    }
   },
   "outputs": [
    {
     "data": {
      "text/plain": [
       "'hello beautiful world'"
      ]
     },
     "execution_count": 16,
     "metadata": {},
     "output_type": "execute_result"
    }
   ],
   "source": [
    "a = 'hello world'\n",
    "b = a.replace(' ', ' beautiful ')\n",
    "b"
   ]
  },
  {
   "cell_type": "code",
   "execution_count": 17,
   "metadata": {
    "ExecuteTime": {
     "end_time": "2018-09-28T10:18:27.239212Z",
     "start_time": "2018-09-28T10:18:27.232221Z"
    }
   },
   "outputs": [
    {
     "data": {
      "text/plain": [
       "'hello '"
      ]
     },
     "execution_count": 17,
     "metadata": {},
     "output_type": "execute_result"
    }
   ],
   "source": [
    "a = 'hello world'\n",
    "b = a.replace('world', '')\n",
    "b"
   ]
  },
  {
   "cell_type": "markdown",
   "metadata": {},
   "source": [
    "Используйте replace, чтобы очистить строку poem от знаков препинания, приведите строку к нижнему регистру и посчитайте количество различных слов в poem."
   ]
  },
  {
   "cell_type": "code",
   "execution_count": 13,
   "metadata": {
    "ExecuteTime": {
     "end_time": "2018-09-28T10:01:57.984575Z",
     "start_time": "2018-09-28T10:01:57.980829Z"
    }
   },
   "outputs": [],
   "source": [
    "poem = \"\"\"5 little piges.\n",
    "This little pig went to market,\n",
    "This little pig stayed at home,\n",
    "This little pig had roast beef,\n",
    "And this little pig had none,\n",
    "This little pig said, \"Wee, wee, wee!\n",
    "I can't find my way home.\"\"\""
   ]
  },
  {
   "cell_type": "code",
   "execution_count": null,
   "metadata": {},
   "outputs": [],
   "source": []
  },
  {
   "cell_type": "markdown",
   "metadata": {
    "ExecuteTime": {
     "end_time": "2018-09-28T10:25:50.335153Z",
     "start_time": "2018-09-28T10:25:50.330586Z"
    }
   },
   "source": [
    "## 3 (3 балла)\n",
    "\n",
    "Скачайте файл с распространенными паролями: https://raw.githubusercontent.com/danielmiessler/SecLists/master/Passwords/Common-Credentials/10-million-password-list-top-500.txt\n",
    "\n",
    "Откройте файл в Питоне с помощью whith. Проитерируйтесь по строкам и проверьте каждый пароль на надежность. Будем считать пароль надежным, если в нем минимум 6 символов разного регистра, есть цифры, буквы и другие символы. Выведете долю надежных паролей среди всех в файле.\n",
    "\n",
    "В решении могут помочь методы .isupper() , .isdigit() , .isalpha()"
   ]
  },
  {
   "cell_type": "code",
   "execution_count": null,
   "metadata": {},
   "outputs": [],
   "source": []
  }
 ],
 "metadata": {
  "kernelspec": {
   "display_name": "Python 3",
   "language": "python",
   "name": "python3"
  },
  "language_info": {
   "codemirror_mode": {
    "name": "ipython",
    "version": 3
   },
   "file_extension": ".py",
   "mimetype": "text/x-python",
   "name": "python",
   "nbconvert_exporter": "python",
   "pygments_lexer": "ipython3",
   "version": "3.6.5"
  }
 },
 "nbformat": 4,
 "nbformat_minor": 2
}
