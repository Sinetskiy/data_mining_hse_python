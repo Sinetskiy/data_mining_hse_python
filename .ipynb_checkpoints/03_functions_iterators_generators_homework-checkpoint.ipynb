{
 "cells": [
  {
   "cell_type": "markdown",
   "metadata": {
    "ExecuteTime": {
     "end_time": "2018-10-05T22:34:23.949326Z",
     "start_time": "2018-10-05T22:34:23.939184Z"
    }
   },
   "source": [
    "## 1 (1 балла)\n",
    "Напишите функцию calc_factorial, которая вычисляет факториал для любого неотрицательного целого числа."
   ]
  },
  {
   "cell_type": "code",
   "execution_count": null,
   "metadata": {},
   "outputs": [],
   "source": []
  },
  {
   "cell_type": "markdown",
   "metadata": {},
   "source": [
    "## 2 (1 балл)\n",
    "Напишите функцию для нахождения максимума из 3-х аргументов. Не пользуйтесь втроенными функциям Питона"
   ]
  },
  {
   "cell_type": "code",
   "execution_count": null,
   "metadata": {},
   "outputs": [],
   "source": []
  },
  {
   "cell_type": "markdown",
   "metadata": {},
   "source": [
    "## 3 (3 балла)\n",
    "Напишите функцию get_factorial_generator, создающую генератор для вывода последовательности из факториалов целых чисел. \n",
    "Дополните уже существующий код:"
   ]
  },
  {
   "cell_type": "code",
   "execution_count": null,
   "metadata": {},
   "outputs": [],
   "source": [
    "def get_factorial_generator():\n",
    "    # Ваш код здесь\n",
    "    \n",
    "factorial_generator = get_factorial_generator()\n",
    "print(next(factorial_generator))  # печатает 1\n",
    "print(next(factorial_generator))  # печатает 1\n",
    "print(next(factorial_generator))  # печатает 2\n",
    "print(next(factorial_generator))  # печатает 6\n",
    "print(next(factorial_generator))  # печатает 24"
   ]
  },
  {
   "cell_type": "markdown",
   "metadata": {
    "ExecuteTime": {
     "end_time": "2018-10-05T22:48:57.851870Z",
     "start_time": "2018-10-05T22:48:57.842808Z"
    }
   },
   "source": [
    "PS: избегайте полного вычисления факториала на каждой итерации"
   ]
  },
  {
   "cell_type": "code",
   "execution_count": null,
   "metadata": {},
   "outputs": [],
   "source": []
  },
  {
   "cell_type": "markdown",
   "metadata": {},
   "source": [
    "## 4 (2 + 1 балл)\n",
    "\n",
    "4.1 Используя функцию calc_factorial из первого задания, напишите list comprehension, который из списка чисел получает список факториалов. \n",
    "\n",
    "Пример:\n",
    "\n",
    "[1, 5, 20, 3, 7] -> [1, 120, 2432902008176640000, 6, 5040]\n",
    "\n",
    "4.2 Не изменяя список, модифицируйте list comprehension, чтобы он пропускал числа больше 30:\n",
    "Пример:\n",
    "\n",
    "[1, 5, 20, 31, 3, 7] -> [1, 120, 2432902008176640000, 6, 5040]"
   ]
  },
  {
   "cell_type": "code",
   "execution_count": null,
   "metadata": {},
   "outputs": [],
   "source": []
  },
  {
   "cell_type": "markdown",
   "metadata": {
    "ExecuteTime": {
     "end_time": "2018-10-05T22:08:21.522850Z",
     "start_time": "2018-10-05T22:08:21.514264Z"
    }
   },
   "source": [
    "## 5 (3 балла) \n",
    "\n",
    "Функция open(file_name) имеет опциональный аргумент encoding, в который можно передать строкой название кодировки, в которой стоит открыть файл. Большинство файлов в интернете закодированно в 'utf8', но Windows для файлов, в которых содержится кириллица, использует кодировку 'windows-1251'.\n",
    "\n",
    "\n",
    "Скачайте файлы со стрихотворением Пушкина в разных кодировках: https://raw.githubusercontent.com/SlinkoIgor/data_mining_course2/master/03_functions_iterators_generators/Onegin_utf8.txt\n",
    "и https://raw.githubusercontent.com/SlinkoIgor/data_mining_course2/master/03_functions_iterators_generators/Onegin_windows1251.txt\n",
    "\n",
    "(скачивать нужно не копируя текст, а файл целиком. Это можно сделать, нажав правой кнопкой на страницу -> сохранить страницу)\n",
    "\n",
    "Откройте каждый из файлов в питоне, воспользовавшишь функций open(file_name, encoding='utf8') либо open(file_name, encoding='windows-1251') соответственно. Сделайте read и удостоверьтесь, что содержимое файлов полностью совпадает."
   ]
  },
  {
   "cell_type": "code",
   "execution_count": null,
   "metadata": {},
   "outputs": [],
   "source": []
  }
 ],
 "metadata": {
  "kernelspec": {
   "display_name": "Python 3",
   "language": "python",
   "name": "python3"
  },
  "language_info": {
   "codemirror_mode": {
    "name": "ipython",
    "version": 3
   },
   "file_extension": ".py",
   "mimetype": "text/x-python",
   "name": "python",
   "nbconvert_exporter": "python",
   "pygments_lexer": "ipython3",
   "version": "3.6.5"
  }
 },
 "nbformat": 4,
 "nbformat_minor": 2
}
